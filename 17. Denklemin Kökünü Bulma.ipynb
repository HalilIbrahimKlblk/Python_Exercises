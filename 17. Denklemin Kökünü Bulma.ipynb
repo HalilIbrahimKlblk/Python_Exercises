{
 "cells": [
  {
   "cell_type": "markdown",
   "metadata": {},
   "source": [
    "Denklemin Kökünü Bulma Programı"
   ]
  },
  {
   "cell_type": "code",
   "execution_count": 9,
   "metadata": {},
   "outputs": [
    {
     "name": "stdout",
     "output_type": "stream",
     "text": [
      "Denklemin iki tane gerçek kökü vardır.\n",
      "(-7.0, 3.0)\n"
     ]
    }
   ],
   "source": [
    "a=int(input(\"a:\"))\n",
    "b=int(input(\"b:\"))\n",
    "c=int(input(\"c:\"))\n",
    "delta=(b**2-4*a*c)\n",
    "if delta<0:\n",
    "    print(\"Denklemin reel kökü yoktur!\")\n",
    "elif delta==0:\n",
    "    print(\"Denklemin tek kökü vardır.\")\n",
    "    x1=(-b-delta**0.5)/ 2*a\n",
    "else:\n",
    "    print(\"Denklemin iki tane gerçek kökü vardır.\")\n",
    "    x1=(-b-delta**0.5)/(2*a)\n",
    "    x2=(-b+delta**0.5)/(2*a)\n",
    "    kökler=x1,x2\n",
    "    print(kökler)"
   ]
  },
  {
   "cell_type": "code",
   "execution_count": 8,
   "metadata": {},
   "outputs": [
    {
     "name": "stdout",
     "output_type": "stream",
     "text": [
      "Denklemin iki tane gerçek kökü vardır.\n",
      "(-7.0, 3.0)\n"
     ]
    }
   ],
   "source": [
    "def kök_bul(a,b,c):\n",
    "    delta=(b**2-4*a*c)\n",
    "    if delta < 0:\n",
    "        print(\"Denklemin reel kökü yoktur!\")\n",
    "        quit()\n",
    "    elif delta==0:\n",
    "        print(\"Denklemin tek kökü vardır.\")\n",
    "        x1=(-b-delta**0.5)/ 2*a\n",
    "        return(x1)\n",
    "    else:\n",
    "        print(\"Denklemin iki tane gerçek kökü vardır.\")\n",
    "        x1=(-b-delta**0.5)/(2*a)\n",
    "        x2=(-b+delta**0.5)/(2*a)\n",
    "        return(x1,x2)\n",
    "a=int(input(\"a:\"))\n",
    "b=int(input(\"b:\"))\n",
    "c=int(input(\"c:\"))\n",
    "sonuc=kök_bul(a, b, c)\n",
    "print(sonuc)"
   ]
  }
 ],
 "metadata": {
  "kernelspec": {
   "display_name": "Python 3",
   "language": "python",
   "name": "python3"
  },
  "language_info": {
   "codemirror_mode": {
    "name": "ipython",
    "version": 3
   },
   "file_extension": ".py",
   "mimetype": "text/x-python",
   "name": "python",
   "nbconvert_exporter": "python",
   "pygments_lexer": "ipython3",
   "version": "3.10.7"
  },
  "orig_nbformat": 4
 },
 "nbformat": 4,
 "nbformat_minor": 2
}
