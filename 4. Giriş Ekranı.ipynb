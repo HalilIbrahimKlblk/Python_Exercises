{
 "cells": [
  {
   "cell_type": "markdown",
   "metadata": {},
   "source": [
    "Kullanıcı Girişi"
   ]
  },
  {
   "cell_type": "code",
   "execution_count": 2,
   "metadata": {},
   "outputs": [
    {
     "name": "stdout",
     "output_type": "stream",
     "text": [
      "***************\n",
      "Siteme giriş için kullanıcı adı ve parola giriniz...\n",
      "***************\n",
      "Hatalı giriş kayıt bulunamadı :(\n",
      "Kullanıcı adı ve parolanızı kontrol ediniz...\n"
     ]
    }
   ],
   "source": [
    "print(\"***************\\nSiteme giriş için kullanıcı adı ve parola giriniz...\\n***************\")\n",
    "Kullanıcı=\"halil\"\n",
    "Parola=\"12345678\"\n",
    "x=input(\"Kullanıcı adınızı giriniz:\")\n",
    "y=input(\"Parolanızı giriniz:\")\n",
    "if Kullanıcı==x and Parola==y:\n",
    "    print(\"Giriş başarılı :) \\nHoşgeldiniz...\")\n",
    "elif Kullanıcı!=x and Parola==y:\n",
    "    print(\"Kullanıcı adı hatalı :(\")   \n",
    "elif Kullanıcı==x and Parola!=y:\n",
    "    print(\"Parola hatalı :(\")       \n",
    "else:\n",
    "    print(\"Hatalı giriş kayıt bulunamadı :(\\nKullanıcı adı ve parolanızı kontrol ediniz...\")"
   ]
  }
 ],
 "metadata": {
  "kernelspec": {
   "display_name": "Python 3",
   "language": "python",
   "name": "python3"
  },
  "language_info": {
   "codemirror_mode": {
    "name": "ipython",
    "version": 3
   },
   "file_extension": ".py",
   "mimetype": "text/x-python",
   "name": "python",
   "nbconvert_exporter": "python",
   "pygments_lexer": "ipython3",
   "version": "3.10.7"
  },
  "orig_nbformat": 4
 },
 "nbformat": 4,
 "nbformat_minor": 2
}
