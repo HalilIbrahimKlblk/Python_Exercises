{
 "cells": [
  {
   "cell_type": "markdown",
   "metadata": {},
   "source": [
    "Aralarında Asal Bulma Programı\n",
    "- a ve b sayılarının 1'den başka ortak böleni yoksa (yani a ve b nin EBOB'u 1 ise) a ve b sayıları aralarında asaldır."
   ]
  },
  {
   "cell_type": "code",
   "execution_count": 5,
   "metadata": {},
   "outputs": [
    {
     "name": "stdout",
     "output_type": "stream",
     "text": [
      "Sayılar aralarında asal değildir.\n"
     ]
    }
   ],
   "source": [
    "a=int(input(\"Birinci sayıyı giriniz:\"))\n",
    "b=int(input(\"İkinci sayıyı giriniz:\"))\n",
    "a_listesi=[]\n",
    "b_listesi=[]\n",
    "for i in range(1,a):\n",
    "    if a%i==0:\n",
    "        a_listesi.append(i)\n",
    "for i in range(1,b):\n",
    "    if a%i==0:\n",
    "        b_listesi.append(i)\n",
    "if len(a_listesi)==1 and len(b_listesi)==1:\n",
    "    print(\"Sayılar aralarında asaldır.\")\n",
    "else:\n",
    "    print(\"Sayılar aralarında asal değildir.\")"
   ]
  },
  {
   "cell_type": "markdown",
   "metadata": {},
   "source": [
    "- Fonksiyon kullanarak aralarında asal bulma"
   ]
  },
  {
   "cell_type": "code",
   "execution_count": null,
   "metadata": {},
   "outputs": [],
   "source": [
    "def ortakBolenler(sayi):\n",
    "    bolenler=[]\n",
    "    for i in range(1,sayi+1):\n",
    "        if sayi%i==0:\n",
    "            bolenler.append(i)\n",
    "    return bolenler\n",
    "\n",
    "ilkSayi=int(input(\"Birinci sayıyı giriniz:\"))\n",
    "ikinciSayi=int(input(\"İkinci sayıyı giriniz:\"))\n",
    "ilkSayiBolenleri=ortakBolenler(ilkSayi)\n",
    "ikinciSayiBolenleri=ortakBolenler(ikinciSayi)\n",
    "ct=0\n",
    "for i in ilkSayiBolenleri:\n",
    "    if i in ikinciSayiBolenleri:\n",
    "        ct+=1\n",
    "if ct==1:\n",
    "    print(\"Aralarında asaldır\")\n",
    "else:\n",
    "    print(\"Aralarında asal değildir\")"
   ]
  }
 ],
 "metadata": {
  "kernelspec": {
   "display_name": "Python 3",
   "language": "python",
   "name": "python3"
  },
  "language_info": {
   "codemirror_mode": {
    "name": "ipython",
    "version": 3
   },
   "file_extension": ".py",
   "mimetype": "text/x-python",
   "name": "python",
   "nbconvert_exporter": "python",
   "pygments_lexer": "ipython3",
   "version": "3.10.7"
  },
  "orig_nbformat": 4
 },
 "nbformat": 4,
 "nbformat_minor": 2
}
