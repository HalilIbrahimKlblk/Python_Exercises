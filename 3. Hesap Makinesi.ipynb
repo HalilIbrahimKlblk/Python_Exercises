{
 "cells": [
  {
   "cell_type": "markdown",
   "metadata": {},
   "source": [
    "Basit Hesap Makinesi"
   ]
  },
  {
   "cell_type": "code",
   "execution_count": 6,
   "metadata": {},
   "outputs": [
    {
     "name": "stdout",
     "output_type": "stream",
     "text": [
      "***************\n",
      "Toplama (1)\n",
      "Çıkarma (2)\n",
      "Çarpma  (3)\n",
      "Bölme   (4)\n",
      "***************\n",
      "Lütfen geçerli işlemi tuşlayınız......\n",
      "***************\n",
      "Toplama (1)\n",
      "Çıkarma (2)\n",
      "Çarpma  (3)\n",
      "Bölme   (4)\n",
      "***************\n"
     ]
    }
   ],
   "source": [
    "print(\"***************\\nToplama (1)\\nÇıkarma (2)\\nÇarpma  (3)\\nBölme   (4)\\n***************\")\n",
    "işlem=int((input(\"İşlem seçiniz:\")))\n",
    "if işlem==1:\n",
    "    print(\"Toplama işlemini seçtiniz......\")\n",
    "    x= int(input(\"Birinci sayı:\"))\n",
    "    y= int(input(\"İkinci sayı:\"))\n",
    "    print(f\"Toplama işleminin sonucu: {x} + {y}: {x+y}\")\n",
    "elif işlem==2:\n",
    "    print(\"Çıkarma işlemini seçtiniz......\")    \n",
    "    x= int(input(\"Birinci sayı:\"))\n",
    "    y= int(input(\"İkinci sayı:\"))\n",
    "    print(f\"Çıkarma işleminin sonucu: {x} - {y}: {x-y}\")\n",
    "elif işlem==3:\n",
    "    print(\"Çarpma işlemini seçtiniz......\")\n",
    "    x= int(input(\"Birinci sayı:\"))\n",
    "    y= int(input(\"İkinci sayı:\"))\n",
    "    print(f\"Çarpma işleminin sonucu: {x} * {y}: {x*y}\")\n",
    "elif işlem==4:\n",
    "    print(\"Bölme işlemini seçtiniz......\")\n",
    "    x= int(input(\"Birinci sayı:\"))\n",
    "    y= int(input(\"İkinci sayı:\"))\n",
    "    print(f\"Bölme işleminin sonucu: {x} / {y}: {x/y}\")\n",
    "else:\n",
    "    print(\"Lütfen geçerli işlemi tuşlayınız......\")\n",
    "    print(\"***************\\nToplama (1)\\nÇıkarma (2)\\nÇarpma  (3)\\nBölme   (4)\\n***************\")"
   ]
  }
 ],
 "metadata": {
  "kernelspec": {
   "display_name": "Python 3",
   "language": "python",
   "name": "python3"
  },
  "language_info": {
   "codemirror_mode": {
    "name": "ipython",
    "version": 3
   },
   "file_extension": ".py",
   "mimetype": "text/x-python",
   "name": "python",
   "nbconvert_exporter": "python",
   "pygments_lexer": "ipython3",
   "version": "3.10.7"
  },
  "orig_nbformat": 4
 },
 "nbformat": 4,
 "nbformat_minor": 2
}
