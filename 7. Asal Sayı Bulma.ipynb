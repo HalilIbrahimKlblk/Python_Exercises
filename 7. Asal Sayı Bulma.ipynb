{
 "cells": [
  {
   "cell_type": "markdown",
   "metadata": {},
   "source": [
    "Asal Sayı Bulma Programı"
   ]
  },
  {
   "cell_type": "code",
   "execution_count": 21,
   "metadata": {},
   "outputs": [
    {
     "name": "stdout",
     "output_type": "stream",
     "text": [
      "Girdiğiniz sayı asal sayıdır. \n",
      "Bölenleri: 1,5\n"
     ]
    }
   ],
   "source": [
    "a=int(input(\"Bir sayı giriniz:\"))\n",
    "liste=[]\n",
    "if 1==a:\n",
    "    print(\"1 sayısı asal değildir.\")\n",
    "for i in range(2,a):\n",
    "    if a%i==0:\n",
    "        liste.append(i)\n",
    "if len(liste)==0:\n",
    "    print(f\"Girdiğiniz sayı asal sayıdır. \\nBölenleri: {1},{a}\")\n",
    "if len(liste)!=0:\n",
    "    print(f\"Girdiğiniz sayı asal sayı değildir. \\nBölenleri:{liste}\")"
   ]
  }
 ],
 "metadata": {
  "kernelspec": {
   "display_name": "Python 3",
   "language": "python",
   "name": "python3"
  },
  "language_info": {
   "codemirror_mode": {
    "name": "ipython",
    "version": 3
   },
   "file_extension": ".py",
   "mimetype": "text/x-python",
   "name": "python",
   "nbconvert_exporter": "python",
   "pygments_lexer": "ipython3",
   "version": "3.10.7"
  },
  "orig_nbformat": 4
 },
 "nbformat": 4,
 "nbformat_minor": 2
}
