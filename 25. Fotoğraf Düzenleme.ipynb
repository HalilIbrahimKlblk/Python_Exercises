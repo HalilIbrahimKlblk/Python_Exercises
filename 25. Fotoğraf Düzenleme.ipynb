{
 "cells": [
  {
   "cell_type": "markdown",
   "metadata": {},
   "source": [
    "Fotoğraf Düzenleme Uygulaması"
   ]
  },
  {
   "cell_type": "code",
   "execution_count": null,
   "metadata": {},
   "outputs": [],
   "source": [
    "from PIL import Image,ImageFilter\n",
    "image=Image.open(\"resim.jpg\")\n",
    "image.save() # Resmi kaydetmek için kullanılır.\n",
    "\n",
    "image.rotate(180).save(\"resim1.jpg\") # Resmi 180 derece çevirip kaydetmek için kullanılır.\n",
    "image.rotate(90).save(\"resim2.jpg\") # Resmi 90 derece çevirip kaydetmek için kullanılır.\n",
    "\n",
    "image.convert(mode=\"L\").save(\"resim3.jpg\") # Resmi siyah-beyaz yapmak ve kaydetmek  için kullanılır.\n",
    "\n",
    "değiştir=(960,600)\n",
    "image.thumbnail(değiştir).save(\"resim4.jpg\") # Resmin boyutunu değiştirmek ve kaydetmek için kullanılır.\n",
    "\n",
    "image.filter(ImageFilter.GaussianBlur(10)).save(\"resim5.jpg\") # Resmin blur eklemek için kullanılır.\n",
    "\n",
    "kırpılacak_alan=(340,0,950,600)\n",
    "image.crop(kırpılacak_alan).save(\"resim6.jpg\") # Resmi kırpmak için kullanılır."
   ]
  }
 ],
 "metadata": {
  "language_info": {
   "name": "python"
  },
  "orig_nbformat": 4
 },
 "nbformat": 4,
 "nbformat_minor": 2
}
