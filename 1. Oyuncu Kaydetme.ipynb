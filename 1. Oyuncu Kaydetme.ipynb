{
 "cells": [
  {
   "cell_type": "markdown",
   "metadata": {},
   "source": [
    "Oyuncu kaydetme programı"
   ]
  },
  {
   "cell_type": "code",
   "execution_count": 1,
   "metadata": {},
   "outputs": [
    {
     "name": "stdout",
     "output_type": "stream",
     "text": [
      "Oyuncu Kaydetme Programı\n",
      "Bilgiler kaydediliyor...\n",
      "Oyuncu adı Arda \n",
      "Oyuncu soyadı Güler \n",
      "Oyuncu takımını Fenerbahçe\n",
      "Bilgiler kaydedildi...\n"
     ]
    }
   ],
   "source": [
    "print(\"Oyuncu Kaydetme Programı\")\n",
    "ad=input(\"Oyuncunun adını giriniz:\")\n",
    "soyad=input(\"Oyuncunun soyadını giriniz:\")\n",
    "takım=input(\"Oyuncunun takımını giriniz:\")\n",
    "bilgiler=[ad,soyad,takım]\n",
    "print(\"Bilgiler kaydediliyor...\")\n",
    "print(\"Oyuncu adı {} \\nOyuncu soyadı {} \\nOyuncu takımını {}\".format(bilgiler[0],bilgiler[1],bilgiler[2]))\n",
    "print(\"Bilgiler kaydedildi...\")"
   ]
  }
 ],
 "metadata": {
  "kernelspec": {
   "display_name": "Python 3",
   "language": "python",
   "name": "python3"
  },
  "language_info": {
   "codemirror_mode": {
    "name": "ipython",
    "version": 3
   },
   "file_extension": ".py",
   "mimetype": "text/x-python",
   "name": "python",
   "nbconvert_exporter": "python",
   "pygments_lexer": "ipython3",
   "version": "3.10.7"
  },
  "orig_nbformat": 4
 },
 "nbformat": 4,
 "nbformat_minor": 2
}
