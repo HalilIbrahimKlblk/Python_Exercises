{
 "cells": [
  {
   "cell_type": "markdown",
   "metadata": {},
   "source": [
    "ATM Programı"
   ]
  },
  {
   "cell_type": "code",
   "execution_count": 5,
   "metadata": {},
   "outputs": [
    {
     "name": "stdout",
     "output_type": "stream",
     "text": [
      "Hoşgeldiniz...\n",
      "Şifre doğru giriş başarılı\n",
      "*************** \n",
      "\n",
      "İşlemler: \n",
      "1-Bakiye Sorgulama \n",
      "2-Para Çekme \n",
      "3-Para Yatırma \n",
      "4-Kredi Kartı Borç Ödeme \n",
      "q-Kart İade(Çıkış) \n",
      "\n",
      "***************\n",
      "Bakiyeniz:1000TL \n",
      "Kredi kartı Borcunuz:500TL\n",
      "Yetersiz bakiye\n",
      "Sistemden çıkılıyor...\n"
     ]
    }
   ],
   "source": [
    "password=\"1234\"\n",
    "hak=3\n",
    "print(\"Hoşgeldiniz...\")\n",
    "while hak>0:\n",
    "    a=input(\"Lütfen 4 haneli kredi kartı şifrenizi giriniz...\")\n",
    "    hak-=1\n",
    "    if len(a)!=4:\n",
    "        print(\"Lütfen 4 hane girdiğinize emin olun...\")\n",
    "        continue\n",
    "    if len(a)==4:\n",
    "        if password==a:\n",
    "            print(\"Şifre doğru giriş başarılı\")\n",
    "            print(\"*\"*15, \"\\n\\nİşlemler: \\n1-Bakiye Sorgulama \\n2-Para Çekme \\n3-Para Yatırma \\n4-Kredi Kartı Borç Ödeme \\nq-Kart İade(Çıkış)\",\"\\n\\n***************\")\n",
    "            while True:\n",
    "                bakiye=1000\n",
    "                borç=500\n",
    "                x=input(\"İşlem türünü seçiniz veya çıkış için 'q' tuşlayınız:\")\n",
    "                if x==\"1\":\n",
    "                    print(f\"Bakiyeniz:{bakiye}TL \\nKredi kartı Borcunuz:{borç}TL\")\n",
    "                elif x==\"2\":\n",
    "                    y=int(input(\"Çekmek istediğiniz tutarı giriniz.\"))\n",
    "                    if y>bakiye:\n",
    "                        print(f\"Yetersiz bakiye \\nBakiyeniz:{bakiye}\")\n",
    "                    elif y<=bakiye:\n",
    "                        print(f\"Paranız hazırlanıyor lütfen bekleyiniz... \\nKalan bakiye:{bakiye-y}TL \\nKredi kartı Borcunuz:{borç}TL\")\n",
    "                elif x==\"3\":\n",
    "                    z=int(input(\"Yatırmak istediğiniz tutarı giriniz.\"))\n",
    "                    print(f\"Paranız yatırılıyor lütfen bekleyiniz... \\nKalan bakiye:{bakiye+z}TL \\nKredi kartı Borcunuz:{borç}TL\")\n",
    "                elif x==\"4\":\n",
    "                    t=int(input(\"Yatırmak istediğiniz tutarı giriniz.\"))\n",
    "                    print(f\"Paranız yatırılıyor lütfen bekleyiniz... \\nKalan borç:{borç-t}TL\")\n",
    "                elif x==\"q\":\n",
    "                    print(\"Sistemden çıkılıyor...\")\n",
    "                    break\n",
    "            break\n",
    "        elif password!=a:\n",
    "            if hak==1:\n",
    "                print(f\"Şifre yanlış kalan hak:{hak} \\nYanlış girerseniz kartınız bloke olacaktır.\")\n",
    "                continue\n",
    "            elif hak==2:\n",
    "                print(f\"Şifre yanlış kalan hak:{hak}\")\n",
    "                continue\n",
    "            else:\n",
    "                print(\"Kartınız bloke olmuştur.\")"
   ]
  }
 ],
 "metadata": {
  "kernelspec": {
   "display_name": "Python 3",
   "language": "python",
   "name": "python3"
  },
  "language_info": {
   "codemirror_mode": {
    "name": "ipython",
    "version": 3
   },
   "file_extension": ".py",
   "mimetype": "text/x-python",
   "name": "python",
   "nbconvert_exporter": "python",
   "pygments_lexer": "ipython3",
   "version": "3.10.7"
  },
  "orig_nbformat": 4
 },
 "nbformat": 4,
 "nbformat_minor": 2
}
