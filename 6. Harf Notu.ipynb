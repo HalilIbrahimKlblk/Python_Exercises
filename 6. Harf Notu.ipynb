{
 "cells": [
  {
   "cell_type": "markdown",
   "metadata": {},
   "source": [
    "Harf Notu Hesaplama Programı"
   ]
  },
  {
   "cell_type": "code",
   "execution_count": 2,
   "metadata": {},
   "outputs": [
    {
     "name": "stdout",
     "output_type": "stream",
     "text": [
      "Vize sınav notunuz:50\n",
      "Final sınav notunuz:90\n",
      "BB ile geçtiniz\n"
     ]
    }
   ],
   "source": [
    "not1=int(input(\"Vize sınav notunuz:\"))   \n",
    "not2=int(input(\"Final sınav notunuz:\"))\n",
    "if not1 > 100 or not2 > 100:\n",
    "    print (\"Notunuz 0 ile 100 olmalıdır\")    \n",
    "elif not2 < 50:\n",
    "    print(\"Kaldınız final notunuzun en az 50 olması gerekir.\")\n",
    "\n",
    "ortalama1=float(not1/10)*4\n",
    "ortalama2=float(not2/10)*6\n",
    "ortalama=ortalama1+ortalama2\n",
    "print(f\"Vize sınav notunuz:{not1}\") \n",
    "print(f\"Final sınav notunuz:{not2}\") \n",
    "\n",
    "if 90 <= ortalama < 101:\n",
    "    print(\"AA ile geçtiniz\")\n",
    "elif 80 <= ortalama < 90: \n",
    "    print(\"BA ile geçtiniz\")\n",
    "elif 70 <= ortalama < 80:\n",
    "    print(\"BB ile geçtiniz\")\n",
    "elif 65 <= ortalama < 70:\n",
    "    print(\"CB ile geçtiniz\")\n",
    "elif 60 <= ortalama < 65:\n",
    "    print(\"CC ile geçtiniz\")\n",
    "elif 55 <= ortalama < 60:\n",
    "    print(\"DC ile geçtiniz\")\n",
    "elif 50 <= ortalama < 55:\n",
    "    print(\"DD ile geçtiniz\")\n",
    "elif 40 <= ortalama < 50:\n",
    "    print(\"FD ile kaldınız\")\n",
    "else:\n",
    "    print(\"FF ile kaldınız\")"
   ]
  }
 ],
 "metadata": {
  "kernelspec": {
   "display_name": "Python 3",
   "language": "python",
   "name": "python3"
  },
  "language_info": {
   "codemirror_mode": {
    "name": "ipython",
    "version": 3
   },
   "file_extension": ".py",
   "mimetype": "text/x-python",
   "name": "python",
   "nbconvert_exporter": "python",
   "pygments_lexer": "ipython3",
   "version": "3.10.7"
  },
  "orig_nbformat": 4
 },
 "nbformat": 4,
 "nbformat_minor": 2
}
