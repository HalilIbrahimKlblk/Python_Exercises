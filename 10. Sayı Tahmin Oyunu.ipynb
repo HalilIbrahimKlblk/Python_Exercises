{
 "cells": [
  {
   "cell_type": "markdown",
   "metadata": {},
   "source": [
    "Sayı Tahmin Oyunu"
   ]
  },
  {
   "cell_type": "code",
   "execution_count": 4,
   "metadata": {},
   "outputs": [
    {
     "name": "stdout",
     "output_type": "stream",
     "text": [
      "Son 4 hakkınız biraz daha yukarı\n",
      "Son 3 hakkınız biraz daha aşağı\n",
      "Tebrikler 3. defada bildiniz puanınız:60\n"
     ]
    }
   ],
   "source": [
    "import random\n",
    "x=random.randint(0,10)\n",
    "hak=6\n",
    "sayac=0\n",
    "while hak>0:\n",
    "    hak-=1\n",
    "    sayac+=1\n",
    "    if hak==0:\n",
    "        print(f\"Hakkınız bitti malesef elendiniz :( Doğru sayı:{x}\")\n",
    "        break\n",
    "    y=int(input(\"0-10 arasında bir sayı giriniz:\"))\n",
    "    if x>y:\n",
    "        print(f\"Son {hak-1} hakkınız biraz daha yukarı\")\n",
    "        continue\n",
    "    elif x<y:\n",
    "        print(f\"Son {hak-1} hakkınız biraz daha aşağı\")\n",
    "        continue\n",
    "    elif x==y:\n",
    "        print(f\"Tebrikler {sayac}. defada bildiniz puanınız:{100-20*(sayac-1)}\")\n",
    "        break"
   ]
  }
 ],
 "metadata": {
  "kernelspec": {
   "display_name": "Python 3",
   "language": "python",
   "name": "python3"
  },
  "language_info": {
   "codemirror_mode": {
    "name": "ipython",
    "version": 3
   },
   "file_extension": ".py",
   "mimetype": "text/x-python",
   "name": "python",
   "nbconvert_exporter": "python",
   "pygments_lexer": "ipython3",
   "version": "3.10.7"
  },
  "orig_nbformat": 4
 },
 "nbformat": 4,
 "nbformat_minor": 2
}
