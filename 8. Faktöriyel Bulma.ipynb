{
 "cells": [
  {
   "cell_type": "markdown",
   "metadata": {},
   "source": [
    "Faktöriyel Bulma Programı"
   ]
  },
  {
   "cell_type": "code",
   "execution_count": 17,
   "metadata": {},
   "outputs": [
    {
     "name": "stdout",
     "output_type": "stream",
     "text": [
      "Faktöriyelini bulmak istediğiniz sayıyı giriniz veya çıkış için 'q' tuşlayınız.\n",
      "Liste:[1, 2, 3, 4, 5, 6]\n",
      "Sayının faktöriyeli:720\n"
     ]
    }
   ],
   "source": [
    "print(\"Faktöriyelini bulmak istediğiniz sayıyı giriniz veya çıkış için 'q' tuşlayınız.\")\n",
    "x=input(\"Faktöriyelini bulmak istediğiniz sayıyı giriniz:\")\n",
    "liste=[]\n",
    "if x==\"q\":\n",
    "    print(\"Sistemden çıkılıyor...\")\n",
    "elif x!=\"q\":\n",
    "    x=int(x)\n",
    "    faktöriyel=1\n",
    "    for i in range (1,x+1):\n",
    "        liste.append(i)\n",
    "    print(f\"Liste:{liste}\")\n",
    "    for i in range (1,x+1):\n",
    "        faktöriyel*=i\n",
    "    print(f\"Sayının faktöriyeli:{faktöriyel}\")"
   ]
  }
 ],
 "metadata": {
  "kernelspec": {
   "display_name": "Python 3",
   "language": "python",
   "name": "python3"
  },
  "language_info": {
   "codemirror_mode": {
    "name": "ipython",
    "version": 3
   },
   "file_extension": ".py",
   "mimetype": "text/x-python",
   "name": "python",
   "nbconvert_exporter": "python",
   "pygments_lexer": "ipython3",
   "version": "3.10.7"
  },
  "orig_nbformat": 4
 },
 "nbformat": 4,
 "nbformat_minor": 2
}
