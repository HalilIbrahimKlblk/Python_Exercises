{
 "cells": [
  {
   "cell_type": "markdown",
   "metadata": {},
   "source": [
    "Harf Notu ve Genel Ortalama Hesaplama Programı"
   ]
  },
  {
   "cell_type": "code",
   "execution_count": 1,
   "metadata": {},
   "outputs": [
    {
     "name": "stdout",
     "output_type": "stream",
     "text": [
      "Vize final notu ortalamanız:56.0\n",
      "DC ile geçtiniz \n",
      "Katsayısı 1,5\n"
     ]
    }
   ],
   "source": [
    "not1=int(input(\"Vize sınav notunuz:\"))   \n",
    "not2=int(input(\"Final sınav notunuz:\"))\n",
    "if not1 > 100 or not2 > 100:\n",
    "    print (\"Notunuz 0 ile 100 olmalıdır\")   \n",
    "    exit() \n",
    "elif not2 < 50:\n",
    "    print(\"Kaldınız final notunuzun en az 50 olması gerekir.\")\n",
    "    exit()\n",
    "\n",
    "ortalama1=float(not1/10)*4\n",
    "ortalama2=float(not2/10)*6\n",
    "ortalama=ortalama1+ortalama2\n",
    "\n",
    "print(f\"Vize final notu ortalamanız:{ortalama}\")   \n",
    "if 90 <= ortalama < 101:\n",
    "    print(\"AA ile geçtiniz \\nKatsayısı 4,0\")\n",
    "elif 80 <= ortalama < 90: \n",
    "    print(\"BA ile geçtiniz \\nKatsayısı 3,5\")\n",
    "elif 70 <= ortalama < 80:\n",
    "    print(\"BB ile geçtiniz \\nKatsayısı 3,0\")\n",
    "elif 65 <= ortalama < 70:\n",
    "    print(\"CB ile geçtiniz \\nKatsayısı 2,5\")\n",
    "elif 60 <= ortalama < 65:\n",
    "    print(\"CC ile geçtiniz \\nKatsayısı 2,0\")\n",
    "elif 55 <= ortalama < 60:\n",
    "    print(\"DC ile geçtiniz \\nKatsayısı 1,5\")\n",
    "elif 50 <= ortalama < 55:\n",
    "    print(\"DD ile geçtiniz \\nKatsayısı 1,0\")\n",
    "elif 40 <= ortalama < 50:\n",
    "    print(\"FD ile kaldınız \\nKatsayısı 0,5\")\n",
    "else:\n",
    "    print(\"Kaldınız \\n Katsayısı 0,0\")"
   ]
  },
  {
   "cell_type": "code",
   "execution_count": 3,
   "metadata": {},
   "outputs": [
    {
     "name": "stdout",
     "output_type": "stream",
     "text": [
      "Hesaplanılan Genel Ortalamanız:3.29\n"
     ]
    }
   ],
   "source": [
    "topnote=0\n",
    "topkredi=0\n",
    "a=0\n",
    "sec=int(input(\"Kaç Ders Gireceksiniz? \"))\n",
    "while a<sec:\n",
    "        kredi=int(input(\"Ders Kredisi \"))\n",
    "        note=str(input(\"Harf Notu \"))\n",
    "        note=note.upper()\n",
    "        a=a+1\n",
    "        if note== \"AA\":\n",
    "            note=float(4.00)\n",
    "        elif note== \"BA\":\n",
    "            note=float(3.50)\n",
    "        elif note== \"BB\":\n",
    "            note=float(3.00)\n",
    "        elif note== \"CB\":\n",
    "            note=float(2.50)\n",
    "        elif note== \"CC\":\n",
    "            note=float(2.00)\n",
    "        elif note== \"DC\":\n",
    "            note=float(1.50)\n",
    "        elif note== \"DD\":\n",
    "            note=float(1.00)\n",
    "        elif note== \"FD\":\n",
    "            note=float(0.50)\n",
    "        elif note== \"FF\":\n",
    "            note=float(0.00)\n",
    "        topnote=kredi*note+topnote\n",
    "        topkredi=topkredi+kredi\n",
    "print(\"Hesaplanılan Genel Ortalamanız:{:.2f}\".format(topnote/topkredi))"
   ]
  }
 ],
 "metadata": {
  "kernelspec": {
   "display_name": "Python 3",
   "language": "python",
   "name": "python3"
  },
  "language_info": {
   "codemirror_mode": {
    "name": "ipython",
    "version": 3
   },
   "file_extension": ".py",
   "mimetype": "text/x-python",
   "name": "python",
   "nbconvert_exporter": "python",
   "pygments_lexer": "ipython3",
   "version": "3.10.7"
  },
  "orig_nbformat": 4
 },
 "nbformat": 4,
 "nbformat_minor": 2
}
