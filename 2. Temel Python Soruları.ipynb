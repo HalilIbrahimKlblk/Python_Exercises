{
 "cells": [
  {
   "cell_type": "markdown",
   "metadata": {},
   "source": [
    "Problem-1\n",
    "- Kullanıcıdan aldığınız 3 tane sayıyı çarparak ekrana yazdırın. Ekrana yazdırma işlemini *format* metoduyla yapmaya çalışın."
   ]
  },
  {
   "cell_type": "code",
   "execution_count": 2,
   "metadata": {},
   "outputs": [
    {
     "name": "stdout",
     "output_type": "stream",
     "text": [
      "1*2*3 çarpımı 6 şeklindedir.\n"
     ]
    }
   ],
   "source": [
    "a=int(input(\"Birinci sayıyı giriniz:\"))\n",
    "b=int(input(\"İkinci sayıyı giriniz:\"))\n",
    "c=int(input(\"Üçüncü sayıyı giriniz:\"))\n",
    "print(\"{}*{}*{} çarpımı {} şeklindedir.\".format(a,b,c,a*b*c))"
   ]
  },
  {
   "cell_type": "markdown",
   "metadata": {},
   "source": [
    "Problem-2 \n",
    "- Kullanıcıdan aldığınız boy ve kilo değerlerine göre kullanıcının beden kitle indeksini bulun.\n",
    "- Beden Kitle İndeksi : Kilo / Boy(m) Boy(m)"
   ]
  },
  {
   "cell_type": "code",
   "execution_count": 38,
   "metadata": {},
   "outputs": [
    {
     "name": "stdout",
     "output_type": "stream",
     "text": [
      "Vücut Kitle Endeksiniz: 24.835646457268076\n"
     ]
    }
   ],
   "source": [
    "boy=float(input(\"Boyunuzu giriniz (m):\"))\n",
    "kilo=int(input(\"Kilonuzu giriniz (kg):\"))\n",
    "print(\"Vücut Kitle Endeksiniz: {}\" .format(kilo/(boy**2)))"
   ]
  },
  {
   "cell_type": "markdown",
   "metadata": {},
   "source": [
    "Problem-3\n",
    "- Bir aracın kilometrede ne kadar yaktığı ve kaç kilometre yol yaptığı bilgilerini alın ve sürücünü toplam ne kadar ödemesini gerektiğini hesaplayın."
   ]
  },
  {
   "cell_type": "code",
   "execution_count": 14,
   "metadata": {},
   "outputs": [
    {
     "name": "stdout",
     "output_type": "stream",
     "text": [
      "Ödemeniz gereken tutar 400 liradır.\n"
     ]
    }
   ],
   "source": [
    "km_başı_ücret=int(input(\"Aracınız km'de kaç lira yakıyor:\"))\n",
    "yol=int(input(\"Kaç km yol gittiğinizi yazınız:\"))\n",
    "print(\"Ödemeniz gereken tutar {} liradır.\".format(km_başı_ücret*yol))"
   ]
  },
  {
   "cell_type": "markdown",
   "metadata": {},
   "source": [
    "Problem-4\n",
    "- Kullanıcıdan ad,soyad ve numara bilgisini alarak bunları alt alta ekrana yazdırın."
   ]
  },
  {
   "cell_type": "code",
   "execution_count": 12,
   "metadata": {},
   "outputs": [
    {
     "name": "stdout",
     "output_type": "stream",
     "text": [
      "Adınız: Mustafa Kemal \n",
      "Soyadınız: Atatürk \n",
      "Numaranız: 1881\n"
     ]
    }
   ],
   "source": [
    "ad=input(\"Adını giriniz:\")\n",
    "soyad=input(\"Soyadını giriniz:\")\n",
    "num=input(\"Numaranızı giriniz:\")\n",
    "print(\"Adınız: {} \\nSoyadınız: {} \\nNumaranız: {}\".format(ad,soyad,num))\n"
   ]
  },
  {
   "cell_type": "markdown",
   "metadata": {},
   "source": [
    "Problem-5\n",
    "- Kullanıcıdan iki tane sayı isteyin ve bu sayıların değerlerini birbirleriyle değiştirin."
   ]
  },
  {
   "cell_type": "code",
   "execution_count": 11,
   "metadata": {},
   "outputs": [
    {
     "name": "stdout",
     "output_type": "stream",
     "text": [
      "a: 1 b: 3\n",
      "a: 3 b: 1\n"
     ]
    }
   ],
   "source": [
    "a=int(input(\"a sayıyını giriniz:\"))\n",
    "b=int(input(\"b sayıyını giriniz:\"))\n",
    "print(\"a:\",a,\"b:\",b)\n",
    "a,b=b,a\n",
    "print(\"a:\",a,\"b:\",b)"
   ]
  },
  {
   "cell_type": "markdown",
   "metadata": {},
   "source": [
    "Problem-6\n",
    "- Kullanıcıdan bir dik üçgenin dik olan iki kenarını(a,b) alın ve hipotenüs uzunluğunu bulmaya çalışın.\n",
    "- Hipotenüs Formülü: a^2 + b^2 = c^2"
   ]
  },
  {
   "cell_type": "code",
   "execution_count": 34,
   "metadata": {},
   "outputs": [
    {
     "name": "stdout",
     "output_type": "stream",
     "text": [
      "Dik üçgenin birinci kenarı: 5 \n",
      "Dik üçgenin ikinci kenarı: 12 \n",
      "Hipotenüs: 13.0\n"
     ]
    }
   ],
   "source": [
    "a=int(input(\"Dik üçgenin birinci dik kenarını giriniz:\"))\n",
    "b=int(input(\"Dik üçgenin ikinci dik kenarını giriniz:\"))\n",
    "c =  (a ** 2 + b ** 2) ** 0.5\n",
    "print(\"Dik üçgenin birinci kenarı: {} \\nDik üçgenin ikinci kenarı: {} \\nHipotenüs: {}\".format(a,b,c))"
   ]
  }
 ],
 "metadata": {
  "kernelspec": {
   "display_name": "Python 3",
   "language": "python",
   "name": "python3"
  },
  "language_info": {
   "codemirror_mode": {
    "name": "ipython",
    "version": 3
   },
   "file_extension": ".py",
   "mimetype": "text/x-python",
   "name": "python",
   "nbconvert_exporter": "python",
   "pygments_lexer": "ipython3",
   "version": "3.10.7"
  },
  "orig_nbformat": 4
 },
 "nbformat": 4,
 "nbformat_minor": 2
}
