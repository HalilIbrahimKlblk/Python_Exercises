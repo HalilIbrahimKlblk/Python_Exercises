{
 "cells": [
  {
   "cell_type": "markdown",
   "metadata": {},
   "source": [
    "Permitasyon Bulma Programı\n",
    "- P(n,r)=n!/(n-r)!"
   ]
  },
  {
   "cell_type": "code",
   "execution_count": 9,
   "metadata": {},
   "outputs": [
    {
     "name": "stdout",
     "output_type": "stream",
     "text": [
      "Permütasyon hesabı için lütfen sayıları giriniz.\n",
      "Sonuç: 20.0\n"
     ]
    }
   ],
   "source": [
    "print(\"Permütasyon hesabı için lütfen sayıları giriniz.\")\n",
    "n=int(input(\"Birinci sayıyı giriniz:\"))\n",
    "r=int(input(\"İkinci sayıyı giriniz:\"))\n",
    "t=n-r\n",
    "for i in range(1,n):\n",
    "    n*=i\n",
    "for i in range(1,t):\n",
    "    t*=i\n",
    "print(f\"Sonuç: {n/t}\")"
   ]
  },
  {
   "cell_type": "markdown",
   "metadata": {},
   "source": [
    "- Fonksiyon kullanarak permitasyon hesaplama"
   ]
  },
  {
   "cell_type": "code",
   "execution_count": 8,
   "metadata": {},
   "outputs": [
    {
     "name": "stdout",
     "output_type": "stream",
     "text": [
      "Permütasyon hesabı için lütfen sayıları giriniz.\n",
      "Sonuç: 20.0\n"
     ]
    }
   ],
   "source": [
    "def faktoriyelHesapla(i):\n",
    "    if i==1:       \n",
    "        return 1\n",
    "    else: \n",
    "        return i * faktoriyelHesapla(i-1)\n",
    "\n",
    "def permutasyonHesapla(j,k):\n",
    "    l = 0\n",
    "    if k>j:        \n",
    "        l = l\n",
    "    else:      \n",
    "        l = faktoriyelHesapla(j)/faktoriyelHesapla(j-k)\n",
    "        return l\n",
    "    \n",
    "print(\"Permütasyon hesabı için lütfen sayıları giriniz.\")   \n",
    "sayi1 = int(input(\"1. Sayı Giriniz: \"))\n",
    "sayi2 = int(input(\"2. Sayı Giriniz: \")) \n",
    "print(\"Sonuç:\",permutasyonHesapla(sayi1,sayi2) )"
   ]
  }
 ],
 "metadata": {
  "kernelspec": {
   "display_name": "Python 3",
   "language": "python",
   "name": "python3"
  },
  "language_info": {
   "codemirror_mode": {
    "name": "ipython",
    "version": 3
   },
   "file_extension": ".py",
   "mimetype": "text/x-python",
   "name": "python",
   "nbconvert_exporter": "python",
   "pygments_lexer": "ipython3",
   "version": "3.10.7"
  },
  "orig_nbformat": 4
 },
 "nbformat": 4,
 "nbformat_minor": 2
}
