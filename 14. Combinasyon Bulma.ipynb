{
 "cells": [
  {
   "cell_type": "markdown",
   "metadata": {},
   "source": [
    "Combinasyon Bulma Programı\n",
    "- C(n,r)=n! / (n-r)! r!"
   ]
  },
  {
   "cell_type": "code",
   "execution_count": 2,
   "metadata": {},
   "outputs": [
    {
     "name": "stdout",
     "output_type": "stream",
     "text": [
      "Kombinasyon hesabı için lütfen sayıları giriniz.\n",
      "Sonuç: 10.0\n"
     ]
    }
   ],
   "source": [
    "print(\"Kombinasyon hesabı için lütfen sayıları giriniz.\")\n",
    "n=int(input(\"Birinci sayıyı giriniz:\"))\n",
    "r=int(input(\"İkinci sayıyı giriniz:\"))\n",
    "t=n-r\n",
    "for i in range(1,n):\n",
    "    n*=i\n",
    "for i in range(1,r):\n",
    "    r*=i\n",
    "for i in range(1,t):\n",
    "    t*=i\n",
    "print(\"Sonuç:\",n/(t*r))"
   ]
  }
 ],
 "metadata": {
  "kernelspec": {
   "display_name": "Python 3",
   "language": "python",
   "name": "python3"
  },
  "language_info": {
   "codemirror_mode": {
    "name": "ipython",
    "version": 3
   },
   "file_extension": ".py",
   "mimetype": "text/x-python",
   "name": "python",
   "nbconvert_exporter": "python",
   "pygments_lexer": "ipython3",
   "version": "3.10.7"
  },
  "orig_nbformat": 4
 },
 "nbformat": 4,
 "nbformat_minor": 2
}
