{
 "cells": [
  {
   "cell_type": "markdown",
   "metadata": {},
   "source": [
    "Mail Gönderme Programı"
   ]
  },
  {
   "cell_type": "code",
   "execution_count": null,
   "metadata": {},
   "outputs": [],
   "source": [
    "import smtplib\n",
    "gönderici=\"...@gmail.com\"\n",
    "alıcı=\"...@gmail.com\"\n",
    "şifre=\"********\"\n",
    "\n",
    "mesaj=\"Bu mesaj python ile gönderilmişitir.\"\n",
    "\n",
    "server=smtplib.SMTP(\"smtp.gmail.com\",\"587\")\n",
    "server.starttls()\n",
    "\n",
    "server.login(gönderici,şifre)\n",
    "print(\"Giriş Başarılı...\")\n",
    "\n",
    "server.sendmail(gönderici,alıcı,mesaj)\n",
    "print(\"Gönderim tamamlandı\")\n",
    "server.quit()"
   ]
  },
  {
   "cell_type": "code",
   "execution_count": null,
   "metadata": {},
   "outputs": [],
   "source": [
    "import smtplib\n",
    "from email.mime.multipart import MIMEMultipart\n",
    "from email.mime.text import MIMEText\n",
    "import sys\n",
    "\n",
    "mesaj=MIMEMultipart()\n",
    "mesaj[\"From\"]=\"Kimden\"\n",
    "mesaj[\"To\"]=\"Kime\"\n",
    "mesaj[\"Subject\"]=\"SMTP Kütüphanesini Kullanarak Mail Gönderme\"\n",
    "yazi = \"\"\"\n",
    "Merhaba, Python ile mail gönderiyorum.\\n    \n",
    "Halil İbrahim Kalabalık\n",
    "\"\"\"\n",
    "\n",
    "mesaj_gövdesi=MIMEText(yazi,\"plain\") # Mailimizin gövdesini bu sınıftan oluşturuyoruz.\n",
    "mesaj.attach(mesaj_gövdesi) # Mailimizin gövdesini mail yapımıza ekliyoruz.\n",
    "\n",
    "try:\n",
    "    mail =  smtplib.SMTP(\"smtp.gmail.com\",587) # SMTP objemizi oluşturuyoruz ve gmail smtp server'ına bağlanıyoruz.\n",
    "    mail.ehlo() # SMTP serverına kendimizi tanıtıyoruz.\n",
    "    mail.starttls() # Adresimizin ve Parolamızın şifrelenmesi için gerekli\n",
    "    mail.login(\"Mail_Adı\",\"Mail_Parola\") # SMTP server'ına giriş yapıyoruz. Kendi mail adresimizi ve parolamızı yapıyoruz.\n",
    "    mail.sendmail(mesaj[\"From\"],mesaj[\"To\"],mesaj.as_string()) # Mailimizi gönderiyoruz.\n",
    "    print(\"Mail başarıyla gönderildi...\")\n",
    "    mail.close() # Smtp serverımızın bağlantısını koparıyoz.\n",
    "except:\n",
    "    sys.stderr.write(\"Mail göndermesi başarısız oldu...\") # Herhangi bir bağlanma sorunu veya mail gönderme sorunu olursa\n",
    "    sys.stderr.flush()"
   ]
  }
 ],
 "metadata": {
  "kernelspec": {
   "display_name": "Python 3",
   "language": "python",
   "name": "python3"
  },
  "language_info": {
   "codemirror_mode": {
    "name": "ipython",
    "version": 3
   },
   "file_extension": ".py",
   "mimetype": "text/x-python",
   "name": "python",
   "nbconvert_exporter": "python",
   "pygments_lexer": "ipython3",
   "version": "3.10.7"
  },
  "orig_nbformat": 4
 },
 "nbformat": 4,
 "nbformat_minor": 2
}
