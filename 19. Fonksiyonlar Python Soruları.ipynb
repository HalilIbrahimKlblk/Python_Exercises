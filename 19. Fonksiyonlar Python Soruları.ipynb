{
 "cells": [
  {
   "cell_type": "markdown",
   "metadata": {},
   "source": [
    "Problem-1\n",
    "- Gönderilen kelimeyi belirtilen kez ekrana yazdıran fonksiyon."
   ]
  },
  {
   "cell_type": "code",
   "execution_count": 34,
   "metadata": {},
   "outputs": [
    {
     "name": "stdout",
     "output_type": "stream",
     "text": [
      "Halil\n",
      "Halil\n",
      "Halil\n",
      "\n"
     ]
    }
   ],
   "source": [
    "def yazdır(a,b):\n",
    "    print(f\"{a}\"*b)\n",
    "yazdır(\"Halil\\n\",3)"
   ]
  },
  {
   "cell_type": "markdown",
   "metadata": {},
   "source": [
    "Problem-2\n",
    "- Kendine gönderilen sınırsız sayıda parametreyi listeye çevirerek ekrana yazdıran fonksiyon."
   ]
  },
  {
   "cell_type": "code",
   "execution_count": 35,
   "metadata": {},
   "outputs": [
    {
     "name": "stdout",
     "output_type": "stream",
     "text": [
      "['Halil', 'İbrahim', 'Kalabalık']\n"
     ]
    }
   ],
   "source": [
    "def listele(*a):\n",
    "    liste=[]\n",
    "    for i in a:\n",
    "        liste.append(i)\n",
    "    print(liste)\n",
    "listele(\"Halil\",\"İbrahim\",\"Kalabalık\")"
   ]
  },
  {
   "cell_type": "markdown",
   "metadata": {},
   "source": [
    "Problem-3\n",
    "- Kendine gönderilen sayının tam bölenlerini listeye ekleyip ekrana yazdıran fonksiyon."
   ]
  },
  {
   "cell_type": "code",
   "execution_count": 10,
   "metadata": {},
   "outputs": [
    {
     "name": "stdout",
     "output_type": "stream",
     "text": [
      "[1, 2, 3, 4, 6, 12]\n"
     ]
    }
   ],
   "source": [
    "def bölen(x):    \n",
    "    liste=[]\n",
    "    for i in range(1,x+1):\n",
    "        if x%i==0:\n",
    "            liste.append(i)\n",
    "    print(liste)\n",
    "\n",
    "bölen(12)"
   ]
  },
  {
   "cell_type": "markdown",
   "metadata": {},
   "source": [
    "Problem-4\n",
    "- 1'den 1000'e kadar olan sayılardan mükemmel sayı olanları ekrana yazdırın. Bunun için bir sayının mükemmel olup olmadığını dönen bir tane fonksiyon yazın.\n",
    "\n",
    "- Bir sayının bölenlerinin toplamı kendine eşitse bu sayı mükemmel bir sayıdır. "
   ]
  },
  {
   "cell_type": "code",
   "execution_count": 83,
   "metadata": {},
   "outputs": [
    {
     "name": "stdout",
     "output_type": "stream",
     "text": [
      "Mükemmel Sayı: 6\n",
      "Mükemmel Sayı: 28\n",
      "Mükemmel Sayı: 496\n"
     ]
    }
   ],
   "source": [
    "def mukemmel(sayı):\n",
    "    toplam = 0\n",
    "    for i in range(1,sayı): \n",
    "        if (sayı % i == 0):\n",
    "            toplam += i        \n",
    "    return toplam == sayı\n",
    "\n",
    "\n",
    "for i in range(1,1001):\n",
    "    if (mukemmel(i)):\n",
    "        print(\"Mükemmel Sayı:\",i)"
   ]
  },
  {
   "cell_type": "markdown",
   "metadata": {},
   "source": [
    "Problem-5\n",
    "- Kullanıcıdan 2 tane sayı alarak bu sayıların en büyük ortak bölenini (EBOB) dönen bir tane fonksiyon yazın."
   ]
  },
  {
   "cell_type": "code",
   "execution_count": 52,
   "metadata": {},
   "outputs": [
    {
     "name": "stdout",
     "output_type": "stream",
     "text": [
      "Birinci sayı:12 İkinci sayı 18\n",
      "Ebob: 6\n"
     ]
    }
   ],
   "source": [
    "def ebob(a,b):\n",
    "    a_bölenleri=set()\n",
    "    b_bölenleri=set()\n",
    "    liste=[]\n",
    "    print(f\"Birinci sayı:{a} İkinci sayı {b}\")\n",
    "    for i in range(1,a+1):\n",
    "        if a%i==0:\n",
    "            a_bölenleri.add(i)\n",
    "        else:\n",
    "            continue\n",
    "    for i in range(1,b+1):\n",
    "        if b%i==0:\n",
    "            b_bölenleri.add(i)\n",
    "        else:\n",
    "            continue\n",
    "\n",
    "    result=a_bölenleri.intersection(b_bölenleri)\n",
    "    for i in result:\n",
    "        liste.append(i)\n",
    "    print(\"Ebob:\",liste[-1])\n",
    "\n",
    "ebob(12,18)"
   ]
  },
  {
   "cell_type": "markdown",
   "metadata": {},
   "source": [
    "Problem-6\n",
    "- Kullanıcıdan 2 tane sayı alarak bu sayıların en küçük ortak katlarını (EKOK) dönen bir tane fonksiyon yazın."
   ]
  },
  {
   "cell_type": "code",
   "execution_count": 82,
   "metadata": {},
   "outputs": [
    {
     "name": "stdout",
     "output_type": "stream",
     "text": [
      "Birinci sayı:12 İkinci sayı 18\n",
      "Ekok: 36\n"
     ]
    }
   ],
   "source": [
    "def ebob_bulma(sayı1 , sayı2):\n",
    "    i = 1\n",
    "    ebob = 1\n",
    "    while (i <= sayı1 and i <= sayı2):\n",
    "        if not sayı1 % i and not sayı2 % i :\n",
    "            ebob = i\n",
    "        i += 1\n",
    "\n",
    "    return ebob\n",
    "\n",
    "def ekok_bulma(sayı1, sayı2):\n",
    "    print(f\"Birinci sayı:{sayı1} İkinci sayı {sayı2}\")\n",
    "    return sayı1 * sayı2 / ebob_bulma(sayı1,sayı2)\n",
    "\n",
    "sayı1 = int(input(\"Sayı1: \"))\n",
    "sayı2 = int(input(\"Sayı2: \"))\n",
    "\n",
    "print(\"Ekok:\",int(ekok_bulma(sayı1,sayı2)))"
   ]
  },
  {
   "cell_type": "markdown",
   "metadata": {},
   "source": [
    "Problem-7\n",
    "- Kullanıcıdan 2 basamaklı bir sayı alın ve bu sayının okunuşunu bulan bir fonksiyon yazın."
   ]
  },
  {
   "cell_type": "code",
   "execution_count": 15,
   "metadata": {},
   "outputs": [
    {
     "name": "stdout",
     "output_type": "stream",
     "text": [
      "On dokuz\n"
     ]
    }
   ],
   "source": [
    "birler=[\"\",\"bir\",\"iki\",\"üç\",\"dört\",\"beş\",\"altı\",\"yedi\",\"sekiz\",\"dokuz\"]\n",
    "onlar=[\"\",\"On\",\"Yirmi\",\"Otuz\",\"Kırk\",\"Elli\",\"Altmış\",\"Yetmiş\",\"Seksen\",\"Doksan\"]\n",
    "\n",
    "def yazı(sayı):\n",
    "    bir = sayı % 10\n",
    "    iki = sayı // 10   \n",
    "    return onlar[iki] + \" \" + birler[bir]\n",
    "\n",
    "print(yazı(int(input(\"Sayı:\"))))"
   ]
  }
 ],
 "metadata": {
  "kernelspec": {
   "display_name": "Python 3",
   "language": "python",
   "name": "python3"
  },
  "language_info": {
   "codemirror_mode": {
    "name": "ipython",
    "version": 3
   },
   "file_extension": ".py",
   "mimetype": "text/x-python",
   "name": "python",
   "nbconvert_exporter": "python",
   "pygments_lexer": "ipython3",
   "version": "3.10.7"
  },
  "orig_nbformat": 4
 },
 "nbformat": 4,
 "nbformat_minor": 2
}
