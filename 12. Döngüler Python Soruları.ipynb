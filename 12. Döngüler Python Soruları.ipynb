{
 "cells": [
  {
   "cell_type": "markdown",
   "metadata": {},
   "source": [
    "Problem-1\n",
    "- Kullanıcıdan aldığınız bir sayının mükemmel olup olmadığını bulmaya çalışın.\n",
    "- Bir sayının kendi hariç bölenlerinin toplamı kendine eşitse bu sayıya \"mükemmel sayı\" denir. "
   ]
  },
  {
   "cell_type": "code",
   "execution_count": 24,
   "metadata": {},
   "outputs": [
    {
     "name": "stdout",
     "output_type": "stream",
     "text": [
      "6 mükemmel bir sayıdır. Bölenleri: [1, 2, 3]\n"
     ]
    }
   ],
   "source": [
    "sayı = int(input(\"Sayı:\"))\n",
    "i = 1\n",
    "toplam = 0\n",
    "liste=[]\n",
    "while (i < sayı):\n",
    "    if (sayı % i == 0):\n",
    "        toplam += i\n",
    "        liste.append(i)\n",
    "    i += 1\n",
    "if (toplam == sayı):\n",
    "    print(sayı,\"mükemmel bir sayıdır.\",\"Bölenleri:\",liste)\n",
    "else:\n",
    "    print(sayı,\"mükemmel bir sayı değildir.\",\"Bölenleri:\",liste)\n"
   ]
  },
  {
   "cell_type": "markdown",
   "metadata": {},
   "source": [
    "Problem-2\n",
    "- 1'den 3'e kadar olan sayılarla ekrana çarpım tablosu bastırmaya çalışın.\n",
    "- İç içe 2 tane for döngüsü kullanın. Aynı zamanda sayıları range() fonksiyonunu kullanarak elde edin."
   ]
  },
  {
   "cell_type": "code",
   "execution_count": 44,
   "metadata": {},
   "outputs": [
    {
     "name": "stdout",
     "output_type": "stream",
     "text": [
      "********************\n",
      "1*1=1\n",
      "1*2=2\n",
      "1*3=3\n",
      "1*4=4\n",
      "1*5=5\n",
      "1*6=6\n",
      "1*7=7\n",
      "1*8=8\n",
      "1*9=9\n",
      "1*10=10\n",
      "********************\n",
      "2*1=2\n",
      "2*2=4\n",
      "2*3=6\n",
      "2*4=8\n",
      "2*5=10\n",
      "2*6=12\n",
      "2*7=14\n",
      "2*8=16\n",
      "2*9=18\n",
      "2*10=20\n"
     ]
    }
   ],
   "source": [
    "for i in range(1,3):\n",
    "    print(\"*\"*20)\n",
    "    for j in range(1,11):\n",
    "        print(f\"{i}*{j}={i*j}\")"
   ]
  },
  {
   "cell_type": "markdown",
   "metadata": {},
   "source": [
    "Problem-3\n",
    "- Her bir while döngüsünde kullanıcıdan bir sayı alın ve kullanıcının girdiği sayıları \"toplam\" isimli bir değişkene ekleyin. \n",
    "- Kullanıcı \"q\" tuşuna bastığı zaman döngüyü sonlandırın ve ekrana \"toplam değişkenini\" bastırın."
   ]
  },
  {
   "cell_type": "code",
   "execution_count": 43,
   "metadata": {},
   "outputs": [
    {
     "name": "stdout",
     "output_type": "stream",
     "text": [
      "Girdiğiniz sayıların toplamı:5\n",
      "Girdiğiniz sayıların toplamı:9\n",
      "Girdiğiniz sayıların toplamı:15\n",
      "Programdan çıkılıyor...\n"
     ]
    }
   ],
   "source": [
    "toplam=0\n",
    "while True:\n",
    "    a=input(\"Bir sayı giriniz:\")\n",
    "    if a==\"q\":\n",
    "        print(\"Programdan çıkılıyor...\")\n",
    "        break\n",
    "    else:\n",
    "        a=int(a)\n",
    "        toplam+=a\n",
    "        print(f\"Girdiğiniz sayıların toplamı:{toplam}\")"
   ]
  },
  {
   "cell_type": "markdown",
   "metadata": {},
   "source": [
    "Problem-4\n",
    "- 1'den 100'e kadar olan sayılardan sadece 5'e bölünen sayıları listeye ekleyip ekrana bastırın. Bu işlemi *continue* ile yapmaya çalışın."
   ]
  },
  {
   "cell_type": "code",
   "execution_count": 47,
   "metadata": {},
   "outputs": [
    {
     "name": "stdout",
     "output_type": "stream",
     "text": [
      "[5, 10, 15, 20, 25, 30, 35, 40, 45, 50, 55, 60, 65, 70, 75, 80, 85, 90, 95]\n"
     ]
    }
   ],
   "source": [
    "liste=[]\n",
    "for i in range(1,100):\n",
    "    if i%5==0:\n",
    "        liste.append(i)\n",
    "    else:\n",
    "        continue\n",
    "print(liste)"
   ]
  },
  {
   "cell_type": "markdown",
   "metadata": {},
   "source": [
    "Problem-5\n",
    "- List comprehension kullanarak 1'den 100'e kadar olan sayılardan sadece çift sayıları bir listeye atmayı yapmayı çalışın."
   ]
  },
  {
   "cell_type": "code",
   "execution_count": 48,
   "metadata": {},
   "outputs": [
    {
     "name": "stdout",
     "output_type": "stream",
     "text": [
      "[5, 10, 15, 20, 25, 30, 35, 40, 45, 50, 55, 60, 65, 70, 75, 80, 85, 90, 95]\n"
     ]
    }
   ],
   "source": [
    "x= [i for i in range(1,100) if i%5==0]\n",
    "print(x)"
   ]
  }
 ],
 "metadata": {
  "kernelspec": {
   "display_name": "Python 3",
   "language": "python",
   "name": "python3"
  },
  "language_info": {
   "codemirror_mode": {
    "name": "ipython",
    "version": 3
   },
   "file_extension": ".py",
   "mimetype": "text/x-python",
   "name": "python",
   "nbconvert_exporter": "python",
   "pygments_lexer": "ipython3",
   "version": "3.10.7"
  },
  "orig_nbformat": 4
 },
 "nbformat": 4,
 "nbformat_minor": 2
}
