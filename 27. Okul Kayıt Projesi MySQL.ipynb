{
 "cells": [
  {
   "cell_type": "markdown",
   "metadata": {},
   "source": [
    "Okul Kayıt Projesi"
   ]
  },
  {
   "cell_type": "code",
   "execution_count": 17,
   "metadata": {},
   "outputs": [
    {
     "name": "stdout",
     "output_type": "stream",
     "text": [
      "Kayıt silindi\n"
     ]
    }
   ],
   "source": [
    "import mysql.connector\n",
    "def kayıt_ekle():\n",
    "    no=input(\"Öğrenci no: \")\n",
    "    ad=input(\"Öğrenci adı: \")\n",
    "    soyad=input(\"Öğrenci soyadı: \")\n",
    "    doğumgünü=input(\"Öğrenci doğum günü: \")\n",
    "    cinsiyet=input(\"Öğrenci cinsiyeti: \")\n",
    "    connection=mysql.connector.connect(host=\"localhost\",user=\"root\",password=\"12345678\",database=\"okul\")\n",
    "    cursor=connection.cursor()\n",
    "    sql=\"INSERT INTO öğrenci (öğrencino, ad, soyad, doğumgünü, cinsiyet) VALUES (%s, %s, %s, %s, %s)\"\n",
    "    values=(no,ad,soyad,doğumgünü,cinsiyet)\n",
    "    try:\n",
    "        cursor.execute(sql, values) # Bir tane öge ekle\n",
    "        connection.commit()\n",
    "        print(f\"Kayıt başarıyla eklendi. \\nid:{cursor.lastrowid}\")\n",
    "    except mysql.connector.connect.Error as err:\n",
    "        print(\"Hata:\",err)\n",
    "    finally:\n",
    "        connection.close()\n",
    "\n",
    "def kayıt_sorgula():\n",
    "    no=int(input(\"Öğrenci num griniz:\"))\n",
    "    connection=mysql.connector.connect(host=\"localhost\",user=\"root\",password=\"12345678\",database=\"okul\")\n",
    "    cursor=connection.cursor()\n",
    "    sql=\"Select * From öğrenci Where öğrencino=%s\"\n",
    "    params=(no,)\n",
    "    cursor.execute(sql,params)\n",
    "    öğrenci=cursor.fetchone()\n",
    "    print(f\"No:{öğrenci[1]} Ad:{öğrenci[2]} Soyad: {öğrenci[3]}\")\n",
    "\n",
    "def kayıt_sırala():\n",
    "    print(\"ID'lere göre sıralama işlemi gerçekleştiriliyor.\\n{}\".format(48*\"-\"))\n",
    "    connection=mysql.connector.connect(host=\"localhost\",user=\"root\",password=\"12345678\",database=\"okul\")\n",
    "    cursor=connection.cursor()\n",
    "    cursor.execute(\"Select * From öğrenci Order By soyad\")\n",
    "    result=cursor.fetchall()\n",
    "    for öğrenci in result:\n",
    "        print(f\"Ad:{öğrenci[2]} Soyad: {öğrenci[3]}\")\n",
    "\n",
    "def kız_sayısı():\n",
    "    connection=mysql.connector.connect(host=\"localhost\",user=\"root\",password=\"12345678\",database=\"okul\")\n",
    "    cursor=connection.cursor()\n",
    "    cursor.execute(\"Select COUNT(*) From öğrenci Where cinsiyet='K'\")\n",
    "    result=cursor.fetchone()\n",
    "    for i in result:\n",
    "        print(\"Kızların sayısı:\",i)\n",
    "\n",
    "def erkek_sayısı():\n",
    "    connection=mysql.connector.connect(host=\"localhost\",user=\"root\",password=\"12345678\",database=\"okul\")\n",
    "    cursor=connection.cursor()\n",
    "    cursor.execute(\"Select COUNT(*) From öğrenci Where cinsiyet='E'\")\n",
    "    result=cursor.fetchone()\n",
    "    for i in result:\n",
    "        print(\"Erkeklerin sayısı:\",i)\n",
    "\n",
    "def kayıt_güncelle():\n",
    "    öğrencino=int(input(\"Güncellemek istediğiniz öğrencinin numarasını giriniz:\"))\n",
    "    ad=input(\"Öğrencinin adını giriniz:\")\n",
    "    soyad=input(\"Öğrencinin soyadını giriniz\")\n",
    "    doğumgünü=input(\"Öğrencini doğum gününü yıl-ay-gün olarak giriniz:\")\n",
    "    cinsiyet=input(\"Öğrencinin cinsiyeti 'E'/'K' olarak giriniz:\")\n",
    "    connection=mysql.connector.connect(host=\"localhost\",user=\"root\",password=\"12345678\",database=\"okul\")\n",
    "    cursor=connection.cursor()\n",
    "    sql=(\"Update öğrenci Set ad=%s,soyad=%s,doğumgünü=%s,cinsiyet=%s Where öğrencino=%s\")\n",
    "    values=(ad,soyad,doğumgünü,cinsiyet,öğrencino)\n",
    "    cursor.execute(sql, values) \n",
    "    connection.commit()\n",
    "    print(\"Kayıt güncellendi\")\n",
    "    connection.close()\n",
    "\n",
    "def kayıt_sil():\n",
    "    öğrencino=int(input(\"Silmek istediğiniz öğrencinin numarasını giriniz:\"))\n",
    "    connection=mysql.connector.connect(host=\"localhost\",user=\"root\",password=\"12345678\",database=\"okul\")\n",
    "    cursor=connection.cursor()\n",
    "    sql=(\"Delete from öğrenci Where öğrencino=%s\")\n",
    "    values=(öğrencino,)\n",
    "    cursor.execute(sql,values) \n",
    "    connection.commit()\n",
    "    print(\"Kayıt silindi\")\n",
    "    connection.close()\n",
    "\n",
    "kayıt_ekle()\n",
    "kayıt_sorgula()\n",
    "kayıt_sırala()\n",
    "kız_sayısı()\n",
    "erkek_sayısı()\n",
    "kayıt_güncelle()\n",
    "kayıt_sil()"
   ]
  }
 ],
 "metadata": {
  "kernelspec": {
   "display_name": "Python 3",
   "language": "python",
   "name": "python3"
  },
  "language_info": {
   "codemirror_mode": {
    "name": "ipython",
    "version": 3
   },
   "file_extension": ".py",
   "mimetype": "text/x-python",
   "name": "python",
   "nbconvert_exporter": "python",
   "pygments_lexer": "ipython3",
   "version": "3.10.7"
  },
  "orig_nbformat": 4
 },
 "nbformat": 4,
 "nbformat_minor": 2
}
