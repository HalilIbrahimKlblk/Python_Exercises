{
 "cells": [
  {
   "cell_type": "markdown",
   "metadata": {},
   "source": [
    "Fibonacci Serisi Bulma Programı"
   ]
  },
  {
   "cell_type": "code",
   "execution_count": 6,
   "metadata": {},
   "outputs": [
    {
     "name": "stdout",
     "output_type": "stream",
     "text": [
      "5 tane fibonacci sayısı [1, 1, 2, 3, 5] şeklinde listelenmiştir.\n"
     ]
    }
   ],
   "source": [
    "a=1\n",
    "b=1\n",
    "liste=[a,b]\n",
    "x=int(input(\"Kaç tane fibonacci sayı bulmak istersiniz:\"))\n",
    "for i in range(x-2):\n",
    "    a,b=b,a+b\n",
    "    liste.append(b)\n",
    "print(f\"{x} tane fibonacci sayısı {liste} şeklinde listelenmiştir.\")"
   ]
  }
 ],
 "metadata": {
  "kernelspec": {
   "display_name": "Python 3",
   "language": "python",
   "name": "python3"
  },
  "language_info": {
   "codemirror_mode": {
    "name": "ipython",
    "version": 3
   },
   "file_extension": ".py",
   "mimetype": "text/x-python",
   "name": "python",
   "nbconvert_exporter": "python",
   "pygments_lexer": "ipython3",
   "version": "3.10.7"
  },
  "orig_nbformat": 4
 },
 "nbformat": 4,
 "nbformat_minor": 2
}
