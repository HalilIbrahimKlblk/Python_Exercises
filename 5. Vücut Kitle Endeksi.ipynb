{
 "cells": [
  {
   "cell_type": "markdown",
   "metadata": {},
   "source": [
    "Vücut Kitle Endeksi Hesaplama\n",
    "- 0-18 arası zayıf, 18-25 arası normal, 25-30 arası kilolu, 30-35 arası fazla kilolu, 35 üstü ciddi obez."
   ]
  },
  {
   "cell_type": "code",
   "execution_count": 3,
   "metadata": {},
   "outputs": [
    {
     "name": "stdout",
     "output_type": "stream",
     "text": [
      "Vücut kitle endeksiniz: 24.84\n",
      "Normal vücut kitle endeksi\n"
     ]
    }
   ],
   "source": [
    "h=float(input(\"Boyunuzu giriniz (m):\"))\n",
    "m=int(input(\"Kilonuzu giriniz (kg):\"))\n",
    "endeks=m/(h*h)\n",
    "print(\"Vücut kitle endeksiniz: {:.2f}\".format(endeks))\n",
    "if endeks<18:\n",
    "    print(\"Zayıf vücut kitle endeksi\")\n",
    "elif 18<endeks<25:\n",
    "    print(\"Normal vücut kitle endeksi\")\n",
    "elif 25<endeks<30:\n",
    "    print(\"Kilolu vücut kitle endeksi\")\n",
    "elif 30<endeks<35:\n",
    "    print(\"Fazla kilolu vücut kitle endeksi\")\n",
    "else:\n",
    "    print(\"Ciddi obez vücut kitle endeksi\")"
   ]
  }
 ],
 "metadata": {
  "kernelspec": {
   "display_name": "Python 3",
   "language": "python",
   "name": "python3"
  },
  "language_info": {
   "codemirror_mode": {
    "name": "ipython",
    "version": 3
   },
   "file_extension": ".py",
   "mimetype": "text/x-python",
   "name": "python",
   "nbconvert_exporter": "python",
   "pygments_lexer": "ipython3",
   "version": "3.10.7"
  },
  "orig_nbformat": 4
 },
 "nbformat": 4,
 "nbformat_minor": 2
}
