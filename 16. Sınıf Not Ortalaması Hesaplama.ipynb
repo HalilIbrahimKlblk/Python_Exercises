{
 "cells": [
  {
   "cell_type": "markdown",
   "metadata": {},
   "source": [
    "Sınıf Not Ortalaması Hesaplama Programı"
   ]
  },
  {
   "cell_type": "code",
   "execution_count": 17,
   "metadata": {},
   "outputs": [
    {
     "name": "stdout",
     "output_type": "stream",
     "text": [
      "Sınıf Mevcudu:5 \n",
      "Sınıf Ortalaması:40\n"
     ]
    }
   ],
   "source": [
    "sınıf=int(input(\"Sınıf mevcudunu giriniz:\"))\n",
    "a=0\n",
    "tot=0\n",
    "while range(0,sınıf):\n",
    "    if a==sınıf:\n",
    "        break\n",
    "    else:\n",
    "        a+=1\n",
    "        b=int(input(f\"{a}. Öğrecinin notu\"))\n",
    "        tot+=b\n",
    "print(f\"Sınıf Mevcudu:{sınıf} \\nSınıf Ortalaması:{int(tot/sınıf)}\")"
   ]
  },
  {
   "cell_type": "code",
   "execution_count": 20,
   "metadata": {},
   "outputs": [
    {
     "name": "stdout",
     "output_type": "stream",
     "text": [
      "Sınıf Mevcudu:5\n",
      "Sınıf Ortalaması:40\n"
     ]
    }
   ],
   "source": [
    "öğrenci_sayısı=int(input(\"Sınıf mevcudunu giriniz:\"))\n",
    "not_toplam=0\n",
    "for i in range (öğrenci_sayısı):\n",
    "    not_toplam +=int(input(f\"{i+1}.Öğrencinin notu:\"))\n",
    "ortalama=not_toplam / öğrenci_sayısı\n",
    "print(f\"Sınıf Mevcudu:{öğrenci_sayısı}\\nSınıf Ortalaması:{int(ortalama)}\")"
   ]
  }
 ],
 "metadata": {
  "kernelspec": {
   "display_name": "Python 3",
   "language": "python",
   "name": "python3"
  },
  "language_info": {
   "codemirror_mode": {
    "name": "ipython",
    "version": 3
   },
   "file_extension": ".py",
   "mimetype": "text/x-python",
   "name": "python",
   "nbconvert_exporter": "python",
   "pygments_lexer": "ipython3",
   "version": "3.10.7"
  },
  "orig_nbformat": 4
 },
 "nbformat": 4,
 "nbformat_minor": 2
}
